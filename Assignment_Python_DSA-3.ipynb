{
 "cells": [
  {
   "cell_type": "code",
   "execution_count": 2,
   "id": "fa3e4ba2",
   "metadata": {},
   "outputs": [],
   "source": [
    "import numpy as np\n",
    "import pandas as pd\n",
    "import statistics as s\n",
    "import matplotlib.pyplot as plt\n"
   ]
  },
  {
   "cell_type": "markdown",
   "id": "558e0129",
   "metadata": {},
   "source": [
    "# 1) FIND OUT HOW MANY MALES AND FEMALES PARTICIPATED IN THE TEST\n"
   ]
  },
  {
   "cell_type": "code",
   "execution_count": 3,
   "id": "52644cd9",
   "metadata": {},
   "outputs": [],
   "source": [
    "data=pd.read_csv('C:\\DSA\\StudentsPerformance.csv')"
   ]
  },
  {
   "cell_type": "code",
   "execution_count": 4,
   "id": "b397221b",
   "metadata": {},
   "outputs": [
    {
     "data": {
      "text/html": [
       "<div>\n",
       "<style scoped>\n",
       "    .dataframe tbody tr th:only-of-type {\n",
       "        vertical-align: middle;\n",
       "    }\n",
       "\n",
       "    .dataframe tbody tr th {\n",
       "        vertical-align: top;\n",
       "    }\n",
       "\n",
       "    .dataframe thead th {\n",
       "        text-align: right;\n",
       "    }\n",
       "</style>\n",
       "<table border=\"1\" class=\"dataframe\">\n",
       "  <thead>\n",
       "    <tr style=\"text-align: right;\">\n",
       "      <th></th>\n",
       "      <th>gender</th>\n",
       "      <th>race/ethnicity</th>\n",
       "      <th>parental level of education</th>\n",
       "      <th>lunch</th>\n",
       "      <th>test preparation course</th>\n",
       "      <th>math score</th>\n",
       "      <th>reading score</th>\n",
       "      <th>writing score</th>\n",
       "    </tr>\n",
       "  </thead>\n",
       "  <tbody>\n",
       "    <tr>\n",
       "      <th>0</th>\n",
       "      <td>female</td>\n",
       "      <td>group C</td>\n",
       "      <td>some high school</td>\n",
       "      <td>free/reduced</td>\n",
       "      <td>none</td>\n",
       "      <td>0</td>\n",
       "      <td>17</td>\n",
       "      <td>10</td>\n",
       "    </tr>\n",
       "    <tr>\n",
       "      <th>1</th>\n",
       "      <td>female</td>\n",
       "      <td>group B</td>\n",
       "      <td>high school</td>\n",
       "      <td>free/reduced</td>\n",
       "      <td>none</td>\n",
       "      <td>8</td>\n",
       "      <td>24</td>\n",
       "      <td>23</td>\n",
       "    </tr>\n",
       "    <tr>\n",
       "      <th>2</th>\n",
       "      <td>female</td>\n",
       "      <td>group B</td>\n",
       "      <td>some high school</td>\n",
       "      <td>free/reduced</td>\n",
       "      <td>none</td>\n",
       "      <td>18</td>\n",
       "      <td>32</td>\n",
       "      <td>28</td>\n",
       "    </tr>\n",
       "    <tr>\n",
       "      <th>3</th>\n",
       "      <td>female</td>\n",
       "      <td>group B</td>\n",
       "      <td>some college</td>\n",
       "      <td>standard</td>\n",
       "      <td>none</td>\n",
       "      <td>11</td>\n",
       "      <td>38</td>\n",
       "      <td>32</td>\n",
       "    </tr>\n",
       "    <tr>\n",
       "      <th>4</th>\n",
       "      <td>female</td>\n",
       "      <td>group C</td>\n",
       "      <td>some college</td>\n",
       "      <td>free/reduced</td>\n",
       "      <td>none</td>\n",
       "      <td>22</td>\n",
       "      <td>39</td>\n",
       "      <td>33</td>\n",
       "    </tr>\n",
       "  </tbody>\n",
       "</table>\n",
       "</div>"
      ],
      "text/plain": [
       "   gender race/ethnicity parental level of education         lunch  \\\n",
       "0  female        group C            some high school  free/reduced   \n",
       "1  female        group B                 high school  free/reduced   \n",
       "2  female        group B            some high school  free/reduced   \n",
       "3  female        group B                some college      standard   \n",
       "4  female        group C                some college  free/reduced   \n",
       "\n",
       "  test preparation course  math score  reading score  writing score  \n",
       "0                    none           0             17             10  \n",
       "1                    none           8             24             23  \n",
       "2                    none          18             32             28  \n",
       "3                    none          11             38             32  \n",
       "4                    none          22             39             33  "
      ]
     },
     "execution_count": 4,
     "metadata": {},
     "output_type": "execute_result"
    }
   ],
   "source": [
    "data.head()"
   ]
  },
  {
   "cell_type": "code",
   "execution_count": 5,
   "id": "6497f0c8",
   "metadata": {},
   "outputs": [
    {
     "data": {
      "text/plain": [
       "female    518\n",
       "male      482\n",
       "Name: gender, dtype: int64"
      ]
     },
     "execution_count": 5,
     "metadata": {},
     "output_type": "execute_result"
    }
   ],
   "source": [
    "data['gender'].value_counts()"
   ]
  },
  {
   "cell_type": "code",
   "execution_count": 6,
   "id": "1d26602a",
   "metadata": {},
   "outputs": [
    {
     "data": {
      "text/plain": [
       "female    0.518\n",
       "male      0.482\n",
       "Name: gender, dtype: float64"
      ]
     },
     "execution_count": 6,
     "metadata": {},
     "output_type": "execute_result"
    }
   ],
   "source": [
    "data['gender'].value_counts(normalize=True)"
   ]
  },
  {
   "cell_type": "markdown",
   "id": "dab2b459",
   "metadata": {},
   "source": [
    "There are 518 females(51.8% of the total gender) and 482(48.2% of the total gender) males participated in the test."
   ]
  },
  {
   "cell_type": "markdown",
   "id": "59acdf12",
   "metadata": {},
   "source": [
    "# 2) WHAT DO YOU THINK ABOUT THE STUDENT'S PARENTAL LEVEL OF EDUCATION"
   ]
  },
  {
   "cell_type": "code",
   "execution_count": 7,
   "id": "765b2eda",
   "metadata": {
    "scrolled": true
   },
   "outputs": [
    {
     "data": {
      "text/plain": [
       "some college          226\n",
       "associate's degree    222\n",
       "high school           196\n",
       "some high school      179\n",
       "bachelor's degree     118\n",
       "master's degree        59\n",
       "Name: parental level of education, dtype: int64"
      ]
     },
     "execution_count": 7,
     "metadata": {},
     "output_type": "execute_result"
    }
   ],
   "source": [
    "data['parental level of education'].value_counts()"
   ]
  },
  {
   "cell_type": "code",
   "execution_count": 36,
   "id": "63b7d9e9",
   "metadata": {},
   "outputs": [
    {
     "data": {
      "text/plain": [
       "some college          0.226\n",
       "associate's degree    0.222\n",
       "high school           0.196\n",
       "some high school      0.179\n",
       "bachelor's degree     0.118\n",
       "master's degree       0.059\n",
       "Name: parental level of education, dtype: float64"
      ]
     },
     "execution_count": 36,
     "metadata": {},
     "output_type": "execute_result"
    }
   ],
   "source": [
    "data['parental level of education'].value_counts(normalize=True)"
   ]
  },
  {
   "cell_type": "code",
   "execution_count": 8,
   "id": "bc93403c",
   "metadata": {},
   "outputs": [
    {
     "data": {
      "text/plain": [
       "gender  parental level of education\n",
       "female  some college                   118\n",
       "        associate's degree             116\n",
       "male    some college                   108\n",
       "        associate's degree             106\n",
       "        high school                    102\n",
       "female  high school                     94\n",
       "        some high school                91\n",
       "male    some high school                88\n",
       "female  bachelor's degree               63\n",
       "male    bachelor's degree               55\n",
       "female  master's degree                 36\n",
       "male    master's degree                 23\n",
       "dtype: int64"
      ]
     },
     "execution_count": 8,
     "metadata": {},
     "output_type": "execute_result"
    }
   ],
   "source": [
    "data[['gender','parental level of education']].value_counts()"
   ]
  },
  {
   "cell_type": "code",
   "execution_count": 9,
   "id": "6c269c56",
   "metadata": {},
   "outputs": [
    {
     "data": {
      "text/plain": [
       "gender  parental level of education\n",
       "female  some college                   0.118\n",
       "        associate's degree             0.116\n",
       "male    some college                   0.108\n",
       "        associate's degree             0.106\n",
       "        high school                    0.102\n",
       "female  high school                    0.094\n",
       "        some high school               0.091\n",
       "male    some high school               0.088\n",
       "female  bachelor's degree              0.063\n",
       "male    bachelor's degree              0.055\n",
       "female  master's degree                0.036\n",
       "male    master's degree                0.023\n",
       "dtype: float64"
      ]
     },
     "execution_count": 9,
     "metadata": {},
     "output_type": "execute_result"
    }
   ],
   "source": [
    "data[['gender','parental level of education']].value_counts(normalize=True)"
   ]
  },
  {
   "cell_type": "markdown",
   "id": "1e7a645b",
   "metadata": {},
   "source": [
    "It is found that there is a 5.9% students parental level of education is masters degree,11.8% account of bachelors degree,22.2% accounts associate degree,22.6% some college,17.9% some high school and 19.6% high school.It is observed that more than 90% of students parents level of education is under graduate."
   ]
  },
  {
   "cell_type": "markdown",
   "id": "e717fbf6",
   "metadata": {},
   "source": [
    "# 3) WHO SCORES THE MOST ON AVERAGE FOR MATH,READING AND WRITING BASED ON GENDER, TEST PREPARATION COURSE"
   ]
  },
  {
   "cell_type": "code",
   "execution_count": 10,
   "id": "5ca716bf",
   "metadata": {},
   "outputs": [
    {
     "data": {
      "text/html": [
       "<div>\n",
       "<style scoped>\n",
       "    .dataframe tbody tr th:only-of-type {\n",
       "        vertical-align: middle;\n",
       "    }\n",
       "\n",
       "    .dataframe tbody tr th {\n",
       "        vertical-align: top;\n",
       "    }\n",
       "\n",
       "    .dataframe thead th {\n",
       "        text-align: right;\n",
       "    }\n",
       "</style>\n",
       "<table border=\"1\" class=\"dataframe\">\n",
       "  <thead>\n",
       "    <tr style=\"text-align: right;\">\n",
       "      <th></th>\n",
       "      <th>gender</th>\n",
       "      <th>race/ethnicity</th>\n",
       "      <th>parental level of education</th>\n",
       "      <th>lunch</th>\n",
       "      <th>test preparation course</th>\n",
       "      <th>math score</th>\n",
       "      <th>reading score</th>\n",
       "      <th>writing score</th>\n",
       "    </tr>\n",
       "  </thead>\n",
       "  <tbody>\n",
       "    <tr>\n",
       "      <th>0</th>\n",
       "      <td>female</td>\n",
       "      <td>group C</td>\n",
       "      <td>some high school</td>\n",
       "      <td>free/reduced</td>\n",
       "      <td>none</td>\n",
       "      <td>0</td>\n",
       "      <td>17</td>\n",
       "      <td>10</td>\n",
       "    </tr>\n",
       "    <tr>\n",
       "      <th>1</th>\n",
       "      <td>female</td>\n",
       "      <td>group B</td>\n",
       "      <td>high school</td>\n",
       "      <td>free/reduced</td>\n",
       "      <td>none</td>\n",
       "      <td>8</td>\n",
       "      <td>24</td>\n",
       "      <td>23</td>\n",
       "    </tr>\n",
       "    <tr>\n",
       "      <th>2</th>\n",
       "      <td>female</td>\n",
       "      <td>group B</td>\n",
       "      <td>some high school</td>\n",
       "      <td>free/reduced</td>\n",
       "      <td>none</td>\n",
       "      <td>18</td>\n",
       "      <td>32</td>\n",
       "      <td>28</td>\n",
       "    </tr>\n",
       "    <tr>\n",
       "      <th>3</th>\n",
       "      <td>female</td>\n",
       "      <td>group B</td>\n",
       "      <td>some college</td>\n",
       "      <td>standard</td>\n",
       "      <td>none</td>\n",
       "      <td>11</td>\n",
       "      <td>38</td>\n",
       "      <td>32</td>\n",
       "    </tr>\n",
       "    <tr>\n",
       "      <th>4</th>\n",
       "      <td>female</td>\n",
       "      <td>group C</td>\n",
       "      <td>some college</td>\n",
       "      <td>free/reduced</td>\n",
       "      <td>none</td>\n",
       "      <td>22</td>\n",
       "      <td>39</td>\n",
       "      <td>33</td>\n",
       "    </tr>\n",
       "  </tbody>\n",
       "</table>\n",
       "</div>"
      ],
      "text/plain": [
       "   gender race/ethnicity parental level of education         lunch  \\\n",
       "0  female        group C            some high school  free/reduced   \n",
       "1  female        group B                 high school  free/reduced   \n",
       "2  female        group B            some high school  free/reduced   \n",
       "3  female        group B                some college      standard   \n",
       "4  female        group C                some college  free/reduced   \n",
       "\n",
       "  test preparation course  math score  reading score  writing score  \n",
       "0                    none           0             17             10  \n",
       "1                    none           8             24             23  \n",
       "2                    none          18             32             28  \n",
       "3                    none          11             38             32  \n",
       "4                    none          22             39             33  "
      ]
     },
     "execution_count": 10,
     "metadata": {},
     "output_type": "execute_result"
    }
   ],
   "source": [
    "gender_female=data['gender']=='female'\n",
    "data[gender_female].head()"
   ]
  },
  {
   "cell_type": "code",
   "execution_count": 11,
   "id": "fb078fac",
   "metadata": {},
   "outputs": [
    {
     "data": {
      "text/plain": [
       "63.37644787644788"
      ]
     },
     "execution_count": 11,
     "metadata": {},
     "output_type": "execute_result"
    }
   ],
   "source": [
    "data.loc[data['gender']=='female','math score'].mean()"
   ]
  },
  {
   "cell_type": "code",
   "execution_count": 12,
   "id": "114a654d",
   "metadata": {},
   "outputs": [
    {
     "data": {
      "text/plain": [
       "68.82157676348548"
      ]
     },
     "execution_count": 12,
     "metadata": {},
     "output_type": "execute_result"
    }
   ],
   "source": [
    "data.loc[data['gender']=='male','math score'].mean()"
   ]
  },
  {
   "cell_type": "code",
   "execution_count": 13,
   "id": "2cf21f54",
   "metadata": {},
   "outputs": [
    {
     "data": {
      "text/plain": [
       "72.59073359073359"
      ]
     },
     "execution_count": 13,
     "metadata": {},
     "output_type": "execute_result"
    }
   ],
   "source": [
    "data.loc[data['gender']=='female','reading score'].mean()"
   ]
  },
  {
   "cell_type": "code",
   "execution_count": 14,
   "id": "d88f9725",
   "metadata": {},
   "outputs": [
    {
     "data": {
      "text/plain": [
       "65.54564315352697"
      ]
     },
     "execution_count": 14,
     "metadata": {},
     "output_type": "execute_result"
    }
   ],
   "source": [
    "data.loc[data['gender']=='male','reading score'].mean()"
   ]
  },
  {
   "cell_type": "code",
   "execution_count": 15,
   "id": "f39053ce",
   "metadata": {},
   "outputs": [
    {
     "data": {
      "text/plain": [
       "72.46718146718146"
      ]
     },
     "execution_count": 15,
     "metadata": {},
     "output_type": "execute_result"
    }
   ],
   "source": [
    "data.loc[data['gender']=='female','writing score'].mean()"
   ]
  },
  {
   "cell_type": "code",
   "execution_count": 16,
   "id": "83d7cea5",
   "metadata": {},
   "outputs": [
    {
     "data": {
      "text/plain": [
       "63.446058091286304"
      ]
     },
     "execution_count": 16,
     "metadata": {},
     "output_type": "execute_result"
    }
   ],
   "source": [
    "data.loc[data['gender']=='male','writing score'].mean()"
   ]
  },
  {
   "cell_type": "markdown",
   "id": "0308bb3c",
   "metadata": {},
   "source": [
    "1 Male students score most on average (68.2%) for maths test compared to female students(63.38%)\n",
    "2)Female students score most on average (72.59%) for reading test compared to male students(65.55%)\n",
    "3)2)Female students score most on average (72.46%) for writing test compared to male students(63.44%)"
   ]
  },
  {
   "cell_type": "code",
   "execution_count": 17,
   "id": "ef042f60",
   "metadata": {},
   "outputs": [
    {
     "data": {
      "text/plain": [
       "none         642\n",
       "completed    358\n",
       "Name: test preparation course, dtype: int64"
      ]
     },
     "execution_count": 17,
     "metadata": {},
     "output_type": "execute_result"
    }
   ],
   "source": [
    "data['test preparation course'].value_counts()"
   ]
  },
  {
   "cell_type": "code",
   "execution_count": 18,
   "id": "aa0b7d13",
   "metadata": {},
   "outputs": [
    {
     "data": {
      "text/plain": [
       "63.78971962616822"
      ]
     },
     "execution_count": 18,
     "metadata": {},
     "output_type": "execute_result"
    }
   ],
   "source": [
    "data.loc[data['test preparation course']=='none','math score'].mean()"
   ]
  },
  {
   "cell_type": "code",
   "execution_count": 19,
   "id": "1c5137b5",
   "metadata": {},
   "outputs": [
    {
     "data": {
      "text/plain": [
       "69.96648044692738"
      ]
     },
     "execution_count": 19,
     "metadata": {},
     "output_type": "execute_result"
    }
   ],
   "source": [
    "data.loc[data['test preparation course']=='completed','math score'].mean()"
   ]
  },
  {
   "cell_type": "code",
   "execution_count": 20,
   "id": "40f85f9e",
   "metadata": {},
   "outputs": [
    {
     "data": {
      "text/plain": [
       "66.41744548286604"
      ]
     },
     "execution_count": 20,
     "metadata": {},
     "output_type": "execute_result"
    }
   ],
   "source": [
    "data.loc[data['test preparation course']=='none','reading score'].mean()"
   ]
  },
  {
   "cell_type": "code",
   "execution_count": 21,
   "id": "3674906a",
   "metadata": {},
   "outputs": [
    {
     "data": {
      "text/plain": [
       "74.17597765363128"
      ]
     },
     "execution_count": 21,
     "metadata": {},
     "output_type": "execute_result"
    }
   ],
   "source": [
    "data.loc[data['test preparation course']=='completed','reading score'].mean()"
   ]
  },
  {
   "cell_type": "code",
   "execution_count": 22,
   "id": "2ab1a016",
   "metadata": {},
   "outputs": [
    {
     "data": {
      "text/plain": [
       "64.45794392523365"
      ]
     },
     "execution_count": 22,
     "metadata": {},
     "output_type": "execute_result"
    }
   ],
   "source": [
    "data.loc[data['test preparation course']=='none','writing score'].mean()"
   ]
  },
  {
   "cell_type": "code",
   "execution_count": 23,
   "id": "6f58d62f",
   "metadata": {},
   "outputs": [
    {
     "data": {
      "text/plain": [
       "74.68435754189944"
      ]
     },
     "execution_count": 23,
     "metadata": {},
     "output_type": "execute_result"
    }
   ],
   "source": [
    "data.loc[data['test preparation course']=='completed','writing score'].mean()"
   ]
  },
  {
   "cell_type": "markdown",
   "id": "03ca7d25",
   "metadata": {},
   "source": [
    "1  students who completed participation course score most on average (69.97%) for maths test compared to the students(63.79%) who not completed the course.\n",
    "2) students who completed participation course score most on average (74.18%) for reading test compared to the students(66.42%) who not completed the course.\n",
    "3)students who completed participation course score most on average (74.68%) for reading test compared to the students(64.46%) who not completed the course."
   ]
  },
  {
   "cell_type": "markdown",
   "id": "b174468e",
   "metadata": {},
   "source": [
    "# 4)WHAT DO YOU THINK ABOUT THE SCORING VARIATIONS FOR MATH, READING AND WRITING BASED ON GENDER AND TEST PREPARATION COURSE"
   ]
  },
  {
   "cell_type": "code",
   "execution_count": 24,
   "id": "0d31f15d",
   "metadata": {},
   "outputs": [
    {
     "data": {
      "text/plain": [
       "256.9585931607201"
      ]
     },
     "execution_count": 24,
     "metadata": {},
     "output_type": "execute_result"
    }
   ],
   "source": [
    "data.loc[data['gender']=='female','math score'].var()"
   ]
  },
  {
   "cell_type": "code",
   "execution_count": 25,
   "id": "96002e9c",
   "metadata": {},
   "outputs": [
    {
     "data": {
      "text/plain": [
       "211.88909688494755"
      ]
     },
     "execution_count": 25,
     "metadata": {},
     "output_type": "execute_result"
    }
   ],
   "source": [
    "data.loc[data['gender']=='male','math score'].var()"
   ]
  },
  {
   "cell_type": "code",
   "execution_count": 26,
   "id": "a79c61ef",
   "metadata": {},
   "outputs": [
    {
     "data": {
      "text/plain": [
       "207.6774381455231"
      ]
     },
     "execution_count": 26,
     "metadata": {},
     "output_type": "execute_result"
    }
   ],
   "source": [
    "data.loc[data['gender']=='female','reading score'].var()"
   ]
  },
  {
   "cell_type": "code",
   "execution_count": 27,
   "id": "12b752e6",
   "metadata": {},
   "outputs": [
    {
     "data": {
      "text/plain": [
       "200.21101008445382"
      ]
     },
     "execution_count": 27,
     "metadata": {},
     "output_type": "execute_result"
    }
   ],
   "source": [
    "data.loc[data['gender']=='male','reading score'].var()"
   ]
  },
  {
   "cell_type": "code",
   "execution_count": 28,
   "id": "7724974e",
   "metadata": {},
   "outputs": [
    {
     "data": {
      "text/plain": [
       "220.36932705017793"
      ]
     },
     "execution_count": 28,
     "metadata": {},
     "output_type": "execute_result"
    }
   ],
   "source": [
    "data.loc[data['gender']=='female','writing score'].var()"
   ]
  },
  {
   "cell_type": "code",
   "execution_count": 29,
   "id": "74f545a3",
   "metadata": {},
   "outputs": [
    {
     "data": {
      "text/plain": [
       "202.41392413799062"
      ]
     },
     "execution_count": 29,
     "metadata": {},
     "output_type": "execute_result"
    }
   ],
   "source": [
    "data.loc[data['gender']=='male','writing score'].var()"
   ]
  },
  {
   "cell_type": "markdown",
   "id": "7c1c1178",
   "metadata": {},
   "source": [
    "1) The scoring variation in maths test of female students( variation is 256.95) is higher than that of male students( 211.89% variation)\n",
    "2)The scoring variation in reading test of female students( variation is 207.68) is higher than that of male students( 200.21% variation)\n",
    "3)The scoring variation in writing test of female students( variation is 220.36) is higher than that of male students( 202.41% variation)\n"
   ]
  },
  {
   "cell_type": "code",
   "execution_count": 30,
   "id": "647cc3c3",
   "metadata": {},
   "outputs": [
    {
     "data": {
      "text/plain": [
       "246.66866169973943"
      ]
     },
     "execution_count": 30,
     "metadata": {},
     "output_type": "execute_result"
    }
   ],
   "source": [
    "data.loc[data['test preparation course']=='none','math score'].var()"
   ]
  },
  {
   "cell_type": "code",
   "execution_count": 31,
   "id": "1c748c74",
   "metadata": {},
   "outputs": [
    {
     "data": {
      "text/plain": [
       "210.8840273539583"
      ]
     },
     "execution_count": 31,
     "metadata": {},
     "output_type": "execute_result"
    }
   ],
   "source": [
    "data.loc[data['test preparation course']=='completed','math score'].var()"
   ]
  },
  {
   "cell_type": "code",
   "execution_count": 32,
   "id": "44a95229",
   "metadata": {},
   "outputs": [
    {
     "data": {
      "text/plain": [
       "213.41985118657084"
      ]
     },
     "execution_count": 32,
     "metadata": {},
     "output_type": "execute_result"
    }
   ],
   "source": [
    "data.loc[data['test preparation course']=='none','reading score'].var()"
   ]
  },
  {
   "cell_type": "code",
   "execution_count": 33,
   "id": "3dfff64e",
   "metadata": {},
   "outputs": [
    {
     "data": {
      "text/plain": [
       "183.2658638874545"
      ]
     },
     "execution_count": 33,
     "metadata": {},
     "output_type": "execute_result"
    }
   ],
   "source": [
    "data.loc[data['test preparation course']=='completed','reading score'].var()"
   ]
  },
  {
   "cell_type": "code",
   "execution_count": 34,
   "id": "848b0c6d",
   "metadata": {},
   "outputs": [
    {
     "data": {
      "text/plain": [
       "226.25173866767676"
      ]
     },
     "execution_count": 34,
     "metadata": {},
     "output_type": "execute_result"
    }
   ],
   "source": [
    "data.loc[data['test preparation course']=='none','writing score'].var()"
   ]
  },
  {
   "cell_type": "code",
   "execution_count": 35,
   "id": "5157fca2",
   "metadata": {},
   "outputs": [
    {
     "data": {
      "text/plain": [
       "175.20261177096555"
      ]
     },
     "execution_count": 35,
     "metadata": {},
     "output_type": "execute_result"
    }
   ],
   "source": [
    "data.loc[data['test preparation course']=='completed','writing score'].var()"
   ]
  },
  {
   "cell_type": "markdown",
   "id": "7a03529c",
   "metadata": {},
   "source": [
    "1)The scoring variation in maths test of students who completed the preparation course( variation is 210.88) is less than that of students who not completed the course( 246.66% variation)\n",
    "2)The scoring variation in maths test of students who completed the preparation course( variation is 183.27) is less than that of students who not completed the course( 213.42% variation)\n",
    "3)The scoring variation in maths test of students who completed the preparation course( variation is 175.2) is less than that of students who not completed the course( 226.25% variation)"
   ]
  },
  {
   "cell_type": "markdown",
   "id": "ee6e0275",
   "metadata": {},
   "source": [
    "# 5) TOP 25% OF STUDENTS BASED ON THEIR MATHS SCORE"
   ]
  },
  {
   "cell_type": "code",
   "execution_count": 43,
   "id": "5e47465e",
   "metadata": {},
   "outputs": [],
   "source": [
    "x=data['math score'].count()\n",
    "y= int (25/100*x)"
   ]
  },
  {
   "cell_type": "code",
   "execution_count": 44,
   "id": "c0f3064a",
   "metadata": {},
   "outputs": [
    {
     "data": {
      "text/html": [
       "<div>\n",
       "<style scoped>\n",
       "    .dataframe tbody tr th:only-of-type {\n",
       "        vertical-align: middle;\n",
       "    }\n",
       "\n",
       "    .dataframe tbody tr th {\n",
       "        vertical-align: top;\n",
       "    }\n",
       "\n",
       "    .dataframe thead th {\n",
       "        text-align: right;\n",
       "    }\n",
       "</style>\n",
       "<table border=\"1\" class=\"dataframe\">\n",
       "  <thead>\n",
       "    <tr style=\"text-align: right;\">\n",
       "      <th></th>\n",
       "      <th>gender</th>\n",
       "      <th>math score</th>\n",
       "      <th>race/ethnicity</th>\n",
       "    </tr>\n",
       "  </thead>\n",
       "  <tbody>\n",
       "    <tr>\n",
       "      <th>515</th>\n",
       "      <td>female</td>\n",
       "      <td>100</td>\n",
       "      <td>group E</td>\n",
       "    </tr>\n",
       "    <tr>\n",
       "      <th>516</th>\n",
       "      <td>female</td>\n",
       "      <td>100</td>\n",
       "      <td>group E</td>\n",
       "    </tr>\n",
       "    <tr>\n",
       "      <th>517</th>\n",
       "      <td>female</td>\n",
       "      <td>100</td>\n",
       "      <td>group E</td>\n",
       "    </tr>\n",
       "    <tr>\n",
       "      <th>996</th>\n",
       "      <td>male</td>\n",
       "      <td>100</td>\n",
       "      <td>group A</td>\n",
       "    </tr>\n",
       "    <tr>\n",
       "      <th>997</th>\n",
       "      <td>male</td>\n",
       "      <td>100</td>\n",
       "      <td>group D</td>\n",
       "    </tr>\n",
       "    <tr>\n",
       "      <th>...</th>\n",
       "      <td>...</td>\n",
       "      <td>...</td>\n",
       "      <td>...</td>\n",
       "    </tr>\n",
       "    <tr>\n",
       "      <th>428</th>\n",
       "      <td>female</td>\n",
       "      <td>77</td>\n",
       "      <td>group D</td>\n",
       "    </tr>\n",
       "    <tr>\n",
       "      <th>429</th>\n",
       "      <td>female</td>\n",
       "      <td>77</td>\n",
       "      <td>group E</td>\n",
       "    </tr>\n",
       "    <tr>\n",
       "      <th>849</th>\n",
       "      <td>male</td>\n",
       "      <td>77</td>\n",
       "      <td>group A</td>\n",
       "    </tr>\n",
       "    <tr>\n",
       "      <th>850</th>\n",
       "      <td>male</td>\n",
       "      <td>77</td>\n",
       "      <td>group C</td>\n",
       "    </tr>\n",
       "    <tr>\n",
       "      <th>851</th>\n",
       "      <td>male</td>\n",
       "      <td>77</td>\n",
       "      <td>group D</td>\n",
       "    </tr>\n",
       "  </tbody>\n",
       "</table>\n",
       "<p>250 rows × 3 columns</p>\n",
       "</div>"
      ],
      "text/plain": [
       "     gender  math score race/ethnicity\n",
       "515  female         100        group E\n",
       "516  female         100        group E\n",
       "517  female         100        group E\n",
       "996    male         100        group A\n",
       "997    male         100        group D\n",
       "..      ...         ...            ...\n",
       "428  female          77        group D\n",
       "429  female          77        group E\n",
       "849    male          77        group A\n",
       "850    male          77        group C\n",
       "851    male          77        group D\n",
       "\n",
       "[250 rows x 3 columns]"
      ]
     },
     "execution_count": 44,
     "metadata": {},
     "output_type": "execute_result"
    }
   ],
   "source": [
    "stud_max=data.nlargest(y,['math score'])\n",
    "stud_max[['gender','math score','race/ethnicity']]"
   ]
  },
  {
   "cell_type": "markdown",
   "id": "428a1213",
   "metadata": {},
   "source": [
    "The above columns list top 25% students based on their maths score."
   ]
  }
 ],
 "metadata": {
  "kernelspec": {
   "display_name": "Python 3",
   "language": "python",
   "name": "python3"
  },
  "language_info": {
   "codemirror_mode": {
    "name": "ipython",
    "version": 3
   },
   "file_extension": ".py",
   "mimetype": "text/x-python",
   "name": "python",
   "nbconvert_exporter": "python",
   "pygments_lexer": "ipython3",
   "version": "3.8.8"
  }
 },
 "nbformat": 4,
 "nbformat_minor": 5
}
